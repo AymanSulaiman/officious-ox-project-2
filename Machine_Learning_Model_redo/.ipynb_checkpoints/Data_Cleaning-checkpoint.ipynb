{
 "cells": [
  {
   "cell_type": "code",
   "execution_count": 1,
   "metadata": {},
   "outputs": [],
   "source": [
    "import pandas as pd\n",
    "import numpy as np\n",
    "import matplotlib.pyplot as plt\n",
    "import warnings\n",
    "warnings.filterwarnings('ignore')\n",
    "import os"
   ]
  },
  {
   "cell_type": "code",
   "execution_count": 2,
   "metadata": {},
   "outputs": [],
   "source": [
    "train_df = pd.read_csv(os.path.join('3year_cd_data_train.csv'))\n",
    "test_df = pd.read_csv(os.path.join('tvg_cd_data_test.csv'))"
   ]
  },
  {
   "cell_type": "code",
   "execution_count": 3,
   "metadata": {},
   "outputs": [
    {
     "data": {
      "text/plain": [
       "18148"
      ]
     },
     "execution_count": 3,
     "metadata": {},
     "output_type": "execute_result"
    }
   ],
   "source": [
    "len(train_df)"
   ]
  },
  {
   "cell_type": "code",
   "execution_count": 4,
   "metadata": {},
   "outputs": [
    {
     "data": {
      "text/plain": [
       "2229"
      ]
     },
     "execution_count": 4,
     "metadata": {},
     "output_type": "execute_result"
    }
   ],
   "source": [
    "len(test_df)"
   ]
  },
  {
   "cell_type": "code",
   "execution_count": 5,
   "metadata": {},
   "outputs": [],
   "source": [
    "def cleaner(df):\n",
    "    df = df[df.tvghorseaverageclassrating != 0]\n",
    "    df = df[df.tvghorseweight > 100]\n",
    "    df['won'] = np.where(df['winpayout']>0,1,0)\n",
    "    df = df[df.scratched == 0]\n",
    "    df.drop_duplicates(keep='first', inplace=False)\n",
    "    return df"
   ]
  },
  {
   "cell_type": "code",
   "execution_count": 6,
   "metadata": {},
   "outputs": [
    {
     "data": {
      "text/plain": [
       "13797"
      ]
     },
     "execution_count": 6,
     "metadata": {},
     "output_type": "execute_result"
    }
   ],
   "source": [
    "train_cleaned = cleaner(train_df)\n",
    "len(train_cleaned)"
   ]
  },
  {
   "cell_type": "code",
   "execution_count": 7,
   "metadata": {},
   "outputs": [
    {
     "name": "stdout",
     "output_type": "stream",
     "text": [
      "1661\n",
      "1587\n"
     ]
    }
   ],
   "source": [
    "test_cleaned = cleaner(test_df)\n",
    "print(len(test_cleaned))\n",
    "test_cleaned = test_cleaned.drop_duplicates()\n",
    "print(len(test_cleaned))"
   ]
  },
  {
   "cell_type": "code",
   "execution_count": 8,
   "metadata": {},
   "outputs": [],
   "source": [
    "train_cleaned.to_csv('train.csv',index=False)\n",
    "test_cleaned.to_csv('test.csv',index=False)"
   ]
  },
  {
   "cell_type": "code",
   "execution_count": 9,
   "metadata": {},
   "outputs": [
    {
     "name": "stdout",
     "output_type": "stream",
     "text": [
      "15384\n",
      "15109\n"
     ]
    }
   ],
   "source": [
    "import datetime\n",
    "frames = [train_cleaned, test_cleaned]\n",
    "total = pd.concat(frames)\n",
    "total['racedater'] =  pd.to_datetime(total['racedater'], format='%Y-%m-%d')\n",
    "print(len(total))\n",
    "total = cleaner(total)\n",
    "total = total.drop_duplicates()\n",
    "print(len(total))\n",
    "total.to_csv('total.csv', index=False)"
   ]
  }
 ],
 "metadata": {
  "kernelspec": {
   "display_name": "Python 3",
   "language": "python",
   "name": "python3"
  },
  "language_info": {
   "codemirror_mode": {
    "name": "ipython",
    "version": 3
   },
   "file_extension": ".py",
   "mimetype": "text/x-python",
   "name": "python",
   "nbconvert_exporter": "python",
   "pygments_lexer": "ipython3",
   "version": "3.7.7"
  }
 },
 "nbformat": 4,
 "nbformat_minor": 4
}
