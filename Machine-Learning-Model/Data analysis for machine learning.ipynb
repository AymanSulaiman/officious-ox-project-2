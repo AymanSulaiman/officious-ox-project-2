{
 "cells": [
  {
   "cell_type": "markdown",
   "metadata": {},
   "source": [
    "# New data Analytics for tvg_cd_data\n",
    "\n",
    "This notebook is going to analyse the `tfg_cd_data.csv` file and observe how it can be used for machine learning application"
   ]
  },
  {
   "cell_type": "code",
   "execution_count": 23,
   "metadata": {},
   "outputs": [],
   "source": [
    "# Importing the required modules\n",
    "import pandas as pd\n",
    "import numpy as np\n",
    "import matplotlib.pyplot as plt\n",
    "import os\n",
    "import warnings\n",
    "warnings.filterwarnings('ignore')\n",
    "%matplotlib inline"
   ]
  },
  {
   "cell_type": "code",
   "execution_count": 3,
   "metadata": {},
   "outputs": [
    {
     "data": {
      "text/html": [
       "<div>\n",
       "<style scoped>\n",
       "    .dataframe tbody tr th:only-of-type {\n",
       "        vertical-align: middle;\n",
       "    }\n",
       "\n",
       "    .dataframe tbody tr th {\n",
       "        vertical-align: top;\n",
       "    }\n",
       "\n",
       "    .dataframe thead th {\n",
       "        text-align: right;\n",
       "    }\n",
       "</style>\n",
       "<table border=\"1\" class=\"dataframe\">\n",
       "  <thead>\n",
       "    <tr style=\"text-align: right;\">\n",
       "      <th></th>\n",
       "      <th>racedater</th>\n",
       "      <th>tvgtrackcode</th>\n",
       "      <th>race</th>\n",
       "      <th>bettinginterestnumber</th>\n",
       "      <th>horsename</th>\n",
       "      <th>morninglineodds</th>\n",
       "      <th>currentodds</th>\n",
       "      <th>tvghorseweight</th>\n",
       "      <th>tvghorsedamsirename</th>\n",
       "      <th>tvghorseage</th>\n",
       "      <th>...</th>\n",
       "      <th>tvghorsenumberofwins</th>\n",
       "      <th>tvghorsenumberofstarts</th>\n",
       "      <th>tvghorsepowerrating</th>\n",
       "      <th>tvghorseaveragespeed</th>\n",
       "      <th>tvghorseaverageclassrating</th>\n",
       "      <th>currentodds.1</th>\n",
       "      <th>winpayout</th>\n",
       "      <th>placepayout</th>\n",
       "      <th>showpayout</th>\n",
       "      <th>scratched</th>\n",
       "    </tr>\n",
       "  </thead>\n",
       "  <tbody>\n",
       "    <tr>\n",
       "      <th>2224</th>\n",
       "      <td>2020-05-29</td>\n",
       "      <td>cd</td>\n",
       "      <td>9</td>\n",
       "      <td>7</td>\n",
       "      <td>out cold</td>\n",
       "      <td>20.0</td>\n",
       "      <td>SC</td>\n",
       "      <td>123</td>\n",
       "      <td>northern afleet</td>\n",
       "      <td>4</td>\n",
       "      <td>...</td>\n",
       "      <td>1</td>\n",
       "      <td>2</td>\n",
       "      <td>69.8</td>\n",
       "      <td>75</td>\n",
       "      <td>81</td>\n",
       "      <td>SC</td>\n",
       "      <td>0.0</td>\n",
       "      <td>0.0</td>\n",
       "      <td>0.0</td>\n",
       "      <td>1</td>\n",
       "    </tr>\n",
       "    <tr>\n",
       "      <th>2225</th>\n",
       "      <td>2020-05-29</td>\n",
       "      <td>cd</td>\n",
       "      <td>9</td>\n",
       "      <td>8</td>\n",
       "      <td>irish spirit</td>\n",
       "      <td>3.0</td>\n",
       "      <td>3</td>\n",
       "      <td>123</td>\n",
       "      <td>forest camp</td>\n",
       "      <td>5</td>\n",
       "      <td>...</td>\n",
       "      <td>0</td>\n",
       "      <td>1</td>\n",
       "      <td>78.4</td>\n",
       "      <td>89</td>\n",
       "      <td>97</td>\n",
       "      <td>3</td>\n",
       "      <td>0.0</td>\n",
       "      <td>0.0</td>\n",
       "      <td>0.0</td>\n",
       "      <td>0</td>\n",
       "    </tr>\n",
       "    <tr>\n",
       "      <th>2226</th>\n",
       "      <td>2020-05-29</td>\n",
       "      <td>cd</td>\n",
       "      <td>9</td>\n",
       "      <td>9</td>\n",
       "      <td>alex's strike</td>\n",
       "      <td>8.0</td>\n",
       "      <td>4</td>\n",
       "      <td>123</td>\n",
       "      <td>smart strike</td>\n",
       "      <td>4</td>\n",
       "      <td>...</td>\n",
       "      <td>1</td>\n",
       "      <td>8</td>\n",
       "      <td>84.4</td>\n",
       "      <td>80</td>\n",
       "      <td>87</td>\n",
       "      <td>4</td>\n",
       "      <td>0.0</td>\n",
       "      <td>0.0</td>\n",
       "      <td>0.0</td>\n",
       "      <td>0</td>\n",
       "    </tr>\n",
       "    <tr>\n",
       "      <th>2227</th>\n",
       "      <td>2020-05-29</td>\n",
       "      <td>cd</td>\n",
       "      <td>9</td>\n",
       "      <td>10</td>\n",
       "      <td>heros reward</td>\n",
       "      <td>10.0</td>\n",
       "      <td>2</td>\n",
       "      <td>118</td>\n",
       "      <td>smart strike</td>\n",
       "      <td>3</td>\n",
       "      <td>...</td>\n",
       "      <td>1</td>\n",
       "      <td>3</td>\n",
       "      <td>86.1</td>\n",
       "      <td>77</td>\n",
       "      <td>90</td>\n",
       "      <td>2</td>\n",
       "      <td>6.2</td>\n",
       "      <td>4.2</td>\n",
       "      <td>3.8</td>\n",
       "      <td>0</td>\n",
       "    </tr>\n",
       "    <tr>\n",
       "      <th>2228</th>\n",
       "      <td>2020-05-29</td>\n",
       "      <td>cd</td>\n",
       "      <td>9</td>\n",
       "      <td>11</td>\n",
       "      <td>nice of me</td>\n",
       "      <td>20.0</td>\n",
       "      <td>19</td>\n",
       "      <td>123</td>\n",
       "      <td>allen's prospect</td>\n",
       "      <td>4</td>\n",
       "      <td>...</td>\n",
       "      <td>1</td>\n",
       "      <td>7</td>\n",
       "      <td>79.2</td>\n",
       "      <td>74</td>\n",
       "      <td>90</td>\n",
       "      <td>19</td>\n",
       "      <td>0.0</td>\n",
       "      <td>0.0</td>\n",
       "      <td>8.4</td>\n",
       "      <td>0</td>\n",
       "    </tr>\n",
       "  </tbody>\n",
       "</table>\n",
       "<p>5 rows × 22 columns</p>\n",
       "</div>"
      ],
      "text/plain": [
       "       racedater tvgtrackcode  race  bettinginterestnumber      horsename  \\\n",
       "2224  2020-05-29           cd     9                      7       out cold   \n",
       "2225  2020-05-29           cd     9                      8   irish spirit   \n",
       "2226  2020-05-29           cd     9                      9  alex's strike   \n",
       "2227  2020-05-29           cd     9                     10   heros reward   \n",
       "2228  2020-05-29           cd     9                     11     nice of me   \n",
       "\n",
       "      morninglineodds currentodds  tvghorseweight tvghorsedamsirename  \\\n",
       "2224             20.0          SC             123     northern afleet   \n",
       "2225              3.0           3             123         forest camp   \n",
       "2226              8.0           4             123        smart strike   \n",
       "2227             10.0           2             118        smart strike   \n",
       "2228             20.0          19             123    allen's prospect   \n",
       "\n",
       "      tvghorseage  ... tvghorsenumberofwins  tvghorsenumberofstarts  \\\n",
       "2224            4  ...                    1                       2   \n",
       "2225            5  ...                    0                       1   \n",
       "2226            4  ...                    1                       8   \n",
       "2227            3  ...                    1                       3   \n",
       "2228            4  ...                    1                       7   \n",
       "\n",
       "      tvghorsepowerrating  tvghorseaveragespeed  tvghorseaverageclassrating  \\\n",
       "2224                 69.8                    75                          81   \n",
       "2225                 78.4                    89                          97   \n",
       "2226                 84.4                    80                          87   \n",
       "2227                 86.1                    77                          90   \n",
       "2228                 79.2                    74                          90   \n",
       "\n",
       "      currentodds.1  winpayout placepayout  showpayout  scratched  \n",
       "2224             SC        0.0         0.0         0.0          1  \n",
       "2225              3        0.0         0.0         0.0          0  \n",
       "2226              4        0.0         0.0         0.0          0  \n",
       "2227              2        6.2         4.2         3.8          0  \n",
       "2228             19        0.0         0.0         8.4          0  \n",
       "\n",
       "[5 rows x 22 columns]"
      ]
     },
     "execution_count": 3,
     "metadata": {},
     "output_type": "execute_result"
    }
   ],
   "source": [
    "df = pd.read_csv(os.path.join('tvg_cd_data.csv'))\n",
    "df.tail()"
   ]
  },
  {
   "cell_type": "markdown",
   "metadata": {},
   "source": [
    "Going to draw some histograms for this dataset"
   ]
  },
  {
   "cell_type": "code",
   "execution_count": 10,
   "metadata": {},
   "outputs": [
    {
     "name": "stdout",
     "output_type": "stream",
     "text": [
      "['racedater', 'tvgtrackcode', 'race', 'bettinginterestnumber', 'horsename', 'morninglineodds', 'currentodds', 'tvghorseweight', 'tvghorsedamsirename', 'tvghorseage', 'tvghorsesex', 'tvghorsedaysoff', 'tvghorsenumberofwins', 'tvghorsenumberofstarts', 'tvghorsepowerrating', 'tvghorseaveragespeed', 'tvghorseaverageclassrating', 'currentodds.1', 'winpayout', 'placepayout', 'showpayout', 'scratched']\n"
     ]
    }
   ],
   "source": [
    "column_list = [i for i in df.columns]\n",
    "print(column_list)"
   ]
  },
  {
   "cell_type": "code",
   "execution_count": 18,
   "metadata": {},
   "outputs": [
    {
     "name": "stdout",
     "output_type": "stream",
     "text": [
      "0\n",
      "126\n"
     ]
    }
   ],
   "source": [
    "print(df.tvghorseweight.min())\n",
    "print(max(df.tvghorseweight))"
   ]
  },
  {
   "cell_type": "code",
   "execution_count": 14,
   "metadata": {},
   "outputs": [
    {
     "data": {
      "image/png": "[encoded data removed]",
      "text/plain": [
       "<Figure size 432x288 with 1 Axes>"
      ]
     },
     "metadata": {
      "needs_background": "light"
     },
     "output_type": "display_data"
    }
   ],
   "source": [
    "# Initialising the fig ax\n",
    "# Needed Variables are: \n",
    "#     tvghorseweight,\n",
    "#     tvghorseage,\n",
    "#     tvghorsedaysoff,\n",
    "#     tvghorsenumberofwins,\n",
    "#     tvghorsepwerratings,\n",
    "#     tvghorseaveragespeed,\n",
    "#     tvghorseaverageclassrating\n",
    "\n",
    "    \n",
    "fig, ax = plt.subplots()\n",
    "n_bins = 20\n",
    "ax.hist(x=df.tvghorseweight, bins=n_bins);"
   ]
  },
  {
   "cell_type": "code",
   "execution_count": 19,
   "metadata": {},
   "outputs": [
    {
     "data": {
      "image/png": "[encoded data removed]",
      "text/plain": [
       "<Figure size 432x288 with 1 Axes>"
      ]
     },
     "metadata": {
      "needs_background": "light"
     },
     "output_type": "display_data"
    }
   ],
   "source": [
    "fig, ax = plt.subplots()\n",
    "n_bins = 20\n",
    "ax.hist(x=df.tvghorseage, bins=n_bins);"
   ]
  },
  {
   "cell_type": "markdown",
   "metadata": {},
   "source": [
    "There appears to be a huge amount of range, After inspecting the data on jupyter labs, there are horse called `(null)` so we shall get rid of them and find the true values"
   ]
  },
  {
   "cell_type": "code",
   "execution_count": 20,
   "metadata": {},
   "outputs": [],
   "source": [
    "df_copy = df.copy()"
   ]
  },
  {
   "cell_type": "code",
   "execution_count": 22,
   "metadata": {},
   "outputs": [
    {
     "name": "stderr",
     "output_type": "stream",
     "text": [
      "C:\\Users\\Ayman\\anaconda3\\lib\\site-packages\\ipykernel_launcher.py:1: UserWarning: Boolean Series key will be reindexed to match DataFrame index.\n",
      "  \"\"\"Entry point for launching an IPython kernel.\n"
     ]
    },
    {
     "data": {
      "text/html": [
       "<div>\n",
       "<style scoped>\n",
       "    .dataframe tbody tr th:only-of-type {\n",
       "        vertical-align: middle;\n",
       "    }\n",
       "\n",
       "    .dataframe tbody tr th {\n",
       "        vertical-align: top;\n",
       "    }\n",
       "\n",
       "    .dataframe thead th {\n",
       "        text-align: right;\n",
       "    }\n",
       "</style>\n",
       "<table border=\"1\" class=\"dataframe\">\n",
       "  <thead>\n",
       "    <tr style=\"text-align: right;\">\n",
       "      <th></th>\n",
       "      <th>racedater</th>\n",
       "      <th>tvgtrackcode</th>\n",
       "      <th>race</th>\n",
       "      <th>bettinginterestnumber</th>\n",
       "      <th>horsename</th>\n",
       "      <th>morninglineodds</th>\n",
       "      <th>currentodds</th>\n",
       "      <th>tvghorseweight</th>\n",
       "      <th>tvghorsedamsirename</th>\n",
       "      <th>tvghorseage</th>\n",
       "      <th>...</th>\n",
       "      <th>tvghorsenumberofwins</th>\n",
       "      <th>tvghorsenumberofstarts</th>\n",
       "      <th>tvghorsepowerrating</th>\n",
       "      <th>tvghorseaveragespeed</th>\n",
       "      <th>tvghorseaverageclassrating</th>\n",
       "      <th>currentodds.1</th>\n",
       "      <th>winpayout</th>\n",
       "      <th>placepayout</th>\n",
       "      <th>showpayout</th>\n",
       "      <th>scratched</th>\n",
       "    </tr>\n",
       "  </thead>\n",
       "  <tbody>\n",
       "    <tr>\n",
       "      <th>2224</th>\n",
       "      <td>2020-05-29</td>\n",
       "      <td>cd</td>\n",
       "      <td>9</td>\n",
       "      <td>7</td>\n",
       "      <td>out cold</td>\n",
       "      <td>20.0</td>\n",
       "      <td>SC</td>\n",
       "      <td>123</td>\n",
       "      <td>northern afleet</td>\n",
       "      <td>4</td>\n",
       "      <td>...</td>\n",
       "      <td>1</td>\n",
       "      <td>2</td>\n",
       "      <td>69.8</td>\n",
       "      <td>75</td>\n",
       "      <td>81</td>\n",
       "      <td>SC</td>\n",
       "      <td>0.0</td>\n",
       "      <td>0.0</td>\n",
       "      <td>0.0</td>\n",
       "      <td>1</td>\n",
       "    </tr>\n",
       "    <tr>\n",
       "      <th>2225</th>\n",
       "      <td>2020-05-29</td>\n",
       "      <td>cd</td>\n",
       "      <td>9</td>\n",
       "      <td>8</td>\n",
       "      <td>irish spirit</td>\n",
       "      <td>3.0</td>\n",
       "      <td>3</td>\n",
       "      <td>123</td>\n",
       "      <td>forest camp</td>\n",
       "      <td>5</td>\n",
       "      <td>...</td>\n",
       "      <td>0</td>\n",
       "      <td>1</td>\n",
       "      <td>78.4</td>\n",
       "      <td>89</td>\n",
       "      <td>97</td>\n",
       "      <td>3</td>\n",
       "      <td>0.0</td>\n",
       "      <td>0.0</td>\n",
       "      <td>0.0</td>\n",
       "      <td>0</td>\n",
       "    </tr>\n",
       "    <tr>\n",
       "      <th>2226</th>\n",
       "      <td>2020-05-29</td>\n",
       "      <td>cd</td>\n",
       "      <td>9</td>\n",
       "      <td>9</td>\n",
       "      <td>alex's strike</td>\n",
       "      <td>8.0</td>\n",
       "      <td>4</td>\n",
       "      <td>123</td>\n",
       "      <td>smart strike</td>\n",
       "      <td>4</td>\n",
       "      <td>...</td>\n",
       "      <td>1</td>\n",
       "      <td>8</td>\n",
       "      <td>84.4</td>\n",
       "      <td>80</td>\n",
       "      <td>87</td>\n",
       "      <td>4</td>\n",
       "      <td>0.0</td>\n",
       "      <td>0.0</td>\n",
       "      <td>0.0</td>\n",
       "      <td>0</td>\n",
       "    </tr>\n",
       "    <tr>\n",
       "      <th>2227</th>\n",
       "      <td>2020-05-29</td>\n",
       "      <td>cd</td>\n",
       "      <td>9</td>\n",
       "      <td>10</td>\n",
       "      <td>heros reward</td>\n",
       "      <td>10.0</td>\n",
       "      <td>2</td>\n",
       "      <td>118</td>\n",
       "      <td>smart strike</td>\n",
       "      <td>3</td>\n",
       "      <td>...</td>\n",
       "      <td>1</td>\n",
       "      <td>3</td>\n",
       "      <td>86.1</td>\n",
       "      <td>77</td>\n",
       "      <td>90</td>\n",
       "      <td>2</td>\n",
       "      <td>6.2</td>\n",
       "      <td>4.2</td>\n",
       "      <td>3.8</td>\n",
       "      <td>0</td>\n",
       "    </tr>\n",
       "    <tr>\n",
       "      <th>2228</th>\n",
       "      <td>2020-05-29</td>\n",
       "      <td>cd</td>\n",
       "      <td>9</td>\n",
       "      <td>11</td>\n",
       "      <td>nice of me</td>\n",
       "      <td>20.0</td>\n",
       "      <td>19</td>\n",
       "      <td>123</td>\n",
       "      <td>allen's prospect</td>\n",
       "      <td>4</td>\n",
       "      <td>...</td>\n",
       "      <td>1</td>\n",
       "      <td>7</td>\n",
       "      <td>79.2</td>\n",
       "      <td>74</td>\n",
       "      <td>90</td>\n",
       "      <td>19</td>\n",
       "      <td>0.0</td>\n",
       "      <td>0.0</td>\n",
       "      <td>8.4</td>\n",
       "      <td>0</td>\n",
       "    </tr>\n",
       "  </tbody>\n",
       "</table>\n",
       "<p>5 rows × 22 columns</p>\n",
       "</div>"
      ],
      "text/plain": [
       "       racedater tvgtrackcode  race  bettinginterestnumber      horsename  \\\n",
       "2224  2020-05-29           cd     9                      7       out cold   \n",
       "2225  2020-05-29           cd     9                      8   irish spirit   \n",
       "2226  2020-05-29           cd     9                      9  alex's strike   \n",
       "2227  2020-05-29           cd     9                     10   heros reward   \n",
       "2228  2020-05-29           cd     9                     11     nice of me   \n",
       "\n",
       "      morninglineodds currentodds  tvghorseweight tvghorsedamsirename  \\\n",
       "2224             20.0          SC             123     northern afleet   \n",
       "2225              3.0           3             123         forest camp   \n",
       "2226              8.0           4             123        smart strike   \n",
       "2227             10.0           2             118        smart strike   \n",
       "2228             20.0          19             123    allen's prospect   \n",
       "\n",
       "      tvghorseage  ... tvghorsenumberofwins  tvghorsenumberofstarts  \\\n",
       "2224            4  ...                    1                       2   \n",
       "2225            5  ...                    0                       1   \n",
       "2226            4  ...                    1                       8   \n",
       "2227            3  ...                    1                       3   \n",
       "2228            4  ...                    1                       7   \n",
       "\n",
       "      tvghorsepowerrating  tvghorseaveragespeed  tvghorseaverageclassrating  \\\n",
       "2224                 69.8                    75                          81   \n",
       "2225                 78.4                    89                          97   \n",
       "2226                 84.4                    80                          87   \n",
       "2227                 86.1                    77                          90   \n",
       "2228                 79.2                    74                          90   \n",
       "\n",
       "      currentodds.1  winpayout placepayout  showpayout  scratched  \n",
       "2224             SC        0.0         0.0         0.0          1  \n",
       "2225              3        0.0         0.0         0.0          0  \n",
       "2226              4        0.0         0.0         0.0          0  \n",
       "2227              2        6.2         4.2         3.8          0  \n",
       "2228             19        0.0         0.0         8.4          0  \n",
       "\n",
       "[5 rows x 22 columns]"
      ]
     },
     "execution_count": 22,
     "metadata": {},
     "output_type": "execute_result"
    }
   ],
   "source": [
    "df_copy = df_copy[df.tvghorsedamsirename != '(null)']\n",
    "df_copy.tail()"
   ]
  },
  {
   "cell_type": "code",
   "execution_count": 34,
   "metadata": {},
   "outputs": [
    {
     "data": {
      "image/png": "[encoded data removed]",
      "text/plain": [
       "<Figure size 432x288 with 1 Axes>"
      ]
     },
     "metadata": {
      "needs_background": "light"
     },
     "output_type": "display_data"
    }
   ],
   "source": [
    "fig, ax = plt.subplots()\n",
    "n_bins = 20\n",
    "ax.hist(x=df_copy.tvghorseweight, bins=n_bins);\n",
    "ax.set(title='horse weight histogram', xlabel='weight (lb)', ylabel='count');"
   ]
  },
  {
   "cell_type": "code",
   "execution_count": 37,
   "metadata": {},
   "outputs": [
    {
     "data": {
      "image/png": "[encoded data removed]",
      "text/plain": [
       "<Figure size 432x288 with 1 Axes>"
      ]
     },
     "metadata": {
      "needs_background": "light"
     },
     "output_type": "display_data"
    }
   ],
   "source": [
    "fig, ax = plt.subplots()\n",
    "n_bins = 20\n",
    "ax.hist(x=df_copy.tvghorseage, bins=n_bins);\n",
    "ax.set(title='horse age histogram', xlabel='age (years)', ylabel='count');"
   ]
  },
  {
   "cell_type": "code",
   "execution_count": 41,
   "metadata": {},
   "outputs": [
    {
     "data": {
      "image/png": "[encoded data removed]",
      "text/plain": [
       "<Figure size 432x288 with 1 Axes>"
      ]
     },
     "metadata": {
      "needs_background": "light"
     },
     "output_type": "display_data"
    }
   ],
   "source": [
    "fig, ax = plt.subplots()\n",
    "n_bins = 20\n",
    "ax.hist(x=df_copy.tvghorsedaysoff, bins=n_bins);\n",
    "ax.set(title='horse number of days off histogram', xlabel='Number of days off', ylabel='count');"
   ]
  },
  {
   "cell_type": "code",
   "execution_count": 39,
   "metadata": {},
   "outputs": [
    {
     "data": {
      "image/png": "[encoded data removed]",
      "text/plain": [
       "<Figure size 432x288 with 1 Axes>"
      ]
     },
     "metadata": {
      "needs_background": "light"
     },
     "output_type": "display_data"
    }
   ],
   "source": [
    "fig, ax = plt.subplots()\n",
    "n_bins = 20\n",
    "ax.hist(x=df_copy.tvghorsenumberofwins, bins=n_bins);\n",
    "ax.set(title='horse number of wins histogram', xlabel='Number of wins', ylabel='count');"
   ]
  },
  {
   "cell_type": "code",
   "execution_count": 44,
   "metadata": {},
   "outputs": [
    {
     "data": {
      "image/png": "[encoded data removed]",
      "text/plain": [
       "<Figure size 432x288 with 1 Axes>"
      ]
     },
     "metadata": {
      "needs_background": "light"
     },
     "output_type": "display_data"
    }
   ],
   "source": [
    "fig, ax = plt.subplots()\n",
    "n_bins = 20\n",
    "ax.hist(x=df_copy.tvghorsepowerrating, bins=n_bins);\n",
    "ax.set(title='horse power rating', xlabel='horsepower', ylabel='count');"
   ]
  },
  {
   "cell_type": "code",
   "execution_count": 45,
   "metadata": {},
   "outputs": [
    {
     "data": {
      "image/png": "[encoded data removed]",
      "text/plain": [
       "<Figure size 432x288 with 1 Axes>"
      ]
     },
     "metadata": {
      "needs_background": "light"
     },
     "output_type": "display_data"
    }
   ],
   "source": [
    "fig, ax = plt.subplots()\n",
    "n_bins = 20\n",
    "ax.hist(x=df_copy.tvghorseaveragespeed, bins=n_bins);\n",
    "ax.set(title='horse average speed', xlabel='Speed (Beyer)', ylabel='count');"
   ]
  },
  {
   "cell_type": "code",
   "execution_count": 47,
   "metadata": {},
   "outputs": [
    {
     "data": {
      "image/png": "[encoded data removed]",
      "text/plain": [
       "<Figure size 432x288 with 1 Axes>"
      ]
     },
     "metadata": {
      "needs_background": "light"
     },
     "output_type": "display_data"
    }
   ],
   "source": [
    "fig, ax = plt.subplots()\n",
    "n_bins = 20\n",
    "ax.hist(x=df_copy.tvghorseaverageclassrating, bins=n_bins);\n",
    "ax.set(title='horse average class rating', xlabel='horse average class rating', ylabel='count');"
   ]
  },
  {
   "cell_type": "markdown",
   "metadata": {},
   "source": [
    "There appears to be a consistant theme here, there is a value of zeros at the same count, lets get rid of them"
   ]
  },
  {
   "cell_type": "code",
   "execution_count": 49,
   "metadata": {},
   "outputs": [
    {
     "data": {
      "text/html": [
       "<div>\n",
       "<style scoped>\n",
       "    .dataframe tbody tr th:only-of-type {\n",
       "        vertical-align: middle;\n",
       "    }\n",
       "\n",
       "    .dataframe tbody tr th {\n",
       "        vertical-align: top;\n",
       "    }\n",
       "\n",
       "    .dataframe thead th {\n",
       "        text-align: right;\n",
       "    }\n",
       "</style>\n",
       "<table border=\"1\" class=\"dataframe\">\n",
       "  <thead>\n",
       "    <tr style=\"text-align: right;\">\n",
       "      <th></th>\n",
       "      <th>racedater</th>\n",
       "      <th>tvgtrackcode</th>\n",
       "      <th>race</th>\n",
       "      <th>bettinginterestnumber</th>\n",
       "      <th>horsename</th>\n",
       "      <th>morninglineodds</th>\n",
       "      <th>currentodds</th>\n",
       "      <th>tvghorseweight</th>\n",
       "      <th>tvghorsedamsirename</th>\n",
       "      <th>tvghorseage</th>\n",
       "      <th>...</th>\n",
       "      <th>tvghorsenumberofwins</th>\n",
       "      <th>tvghorsenumberofstarts</th>\n",
       "      <th>tvghorsepowerrating</th>\n",
       "      <th>tvghorseaveragespeed</th>\n",
       "      <th>tvghorseaverageclassrating</th>\n",
       "      <th>currentodds.1</th>\n",
       "      <th>winpayout</th>\n",
       "      <th>placepayout</th>\n",
       "      <th>showpayout</th>\n",
       "      <th>scratched</th>\n",
       "    </tr>\n",
       "  </thead>\n",
       "  <tbody>\n",
       "    <tr>\n",
       "      <th>2224</th>\n",
       "      <td>2020-05-29</td>\n",
       "      <td>cd</td>\n",
       "      <td>9</td>\n",
       "      <td>7</td>\n",
       "      <td>out cold</td>\n",
       "      <td>20.0</td>\n",
       "      <td>SC</td>\n",
       "      <td>123</td>\n",
       "      <td>northern afleet</td>\n",
       "      <td>4</td>\n",
       "      <td>...</td>\n",
       "      <td>1</td>\n",
       "      <td>2</td>\n",
       "      <td>69.8</td>\n",
       "      <td>75</td>\n",
       "      <td>81</td>\n",
       "      <td>SC</td>\n",
       "      <td>0.0</td>\n",
       "      <td>0.0</td>\n",
       "      <td>0.0</td>\n",
       "      <td>1</td>\n",
       "    </tr>\n",
       "    <tr>\n",
       "      <th>2225</th>\n",
       "      <td>2020-05-29</td>\n",
       "      <td>cd</td>\n",
       "      <td>9</td>\n",
       "      <td>8</td>\n",
       "      <td>irish spirit</td>\n",
       "      <td>3.0</td>\n",
       "      <td>3</td>\n",
       "      <td>123</td>\n",
       "      <td>forest camp</td>\n",
       "      <td>5</td>\n",
       "      <td>...</td>\n",
       "      <td>0</td>\n",
       "      <td>1</td>\n",
       "      <td>78.4</td>\n",
       "      <td>89</td>\n",
       "      <td>97</td>\n",
       "      <td>3</td>\n",
       "      <td>0.0</td>\n",
       "      <td>0.0</td>\n",
       "      <td>0.0</td>\n",
       "      <td>0</td>\n",
       "    </tr>\n",
       "    <tr>\n",
       "      <th>2226</th>\n",
       "      <td>2020-05-29</td>\n",
       "      <td>cd</td>\n",
       "      <td>9</td>\n",
       "      <td>9</td>\n",
       "      <td>alex's strike</td>\n",
       "      <td>8.0</td>\n",
       "      <td>4</td>\n",
       "      <td>123</td>\n",
       "      <td>smart strike</td>\n",
       "      <td>4</td>\n",
       "      <td>...</td>\n",
       "      <td>1</td>\n",
       "      <td>8</td>\n",
       "      <td>84.4</td>\n",
       "      <td>80</td>\n",
       "      <td>87</td>\n",
       "      <td>4</td>\n",
       "      <td>0.0</td>\n",
       "      <td>0.0</td>\n",
       "      <td>0.0</td>\n",
       "      <td>0</td>\n",
       "    </tr>\n",
       "    <tr>\n",
       "      <th>2227</th>\n",
       "      <td>2020-05-29</td>\n",
       "      <td>cd</td>\n",
       "      <td>9</td>\n",
       "      <td>10</td>\n",
       "      <td>heros reward</td>\n",
       "      <td>10.0</td>\n",
       "      <td>2</td>\n",
       "      <td>118</td>\n",
       "      <td>smart strike</td>\n",
       "      <td>3</td>\n",
       "      <td>...</td>\n",
       "      <td>1</td>\n",
       "      <td>3</td>\n",
       "      <td>86.1</td>\n",
       "      <td>77</td>\n",
       "      <td>90</td>\n",
       "      <td>2</td>\n",
       "      <td>6.2</td>\n",
       "      <td>4.2</td>\n",
       "      <td>3.8</td>\n",
       "      <td>0</td>\n",
       "    </tr>\n",
       "    <tr>\n",
       "      <th>2228</th>\n",
       "      <td>2020-05-29</td>\n",
       "      <td>cd</td>\n",
       "      <td>9</td>\n",
       "      <td>11</td>\n",
       "      <td>nice of me</td>\n",
       "      <td>20.0</td>\n",
       "      <td>19</td>\n",
       "      <td>123</td>\n",
       "      <td>allen's prospect</td>\n",
       "      <td>4</td>\n",
       "      <td>...</td>\n",
       "      <td>1</td>\n",
       "      <td>7</td>\n",
       "      <td>79.2</td>\n",
       "      <td>74</td>\n",
       "      <td>90</td>\n",
       "      <td>19</td>\n",
       "      <td>0.0</td>\n",
       "      <td>0.0</td>\n",
       "      <td>8.4</td>\n",
       "      <td>0</td>\n",
       "    </tr>\n",
       "  </tbody>\n",
       "</table>\n",
       "<p>5 rows × 22 columns</p>\n",
       "</div>"
      ],
      "text/plain": [
       "       racedater tvgtrackcode  race  bettinginterestnumber      horsename  \\\n",
       "2224  2020-05-29           cd     9                      7       out cold   \n",
       "2225  2020-05-29           cd     9                      8   irish spirit   \n",
       "2226  2020-05-29           cd     9                      9  alex's strike   \n",
       "2227  2020-05-29           cd     9                     10   heros reward   \n",
       "2228  2020-05-29           cd     9                     11     nice of me   \n",
       "\n",
       "      morninglineodds currentodds  tvghorseweight tvghorsedamsirename  \\\n",
       "2224             20.0          SC             123     northern afleet   \n",
       "2225              3.0           3             123         forest camp   \n",
       "2226              8.0           4             123        smart strike   \n",
       "2227             10.0           2             118        smart strike   \n",
       "2228             20.0          19             123    allen's prospect   \n",
       "\n",
       "      tvghorseage  ... tvghorsenumberofwins  tvghorsenumberofstarts  \\\n",
       "2224            4  ...                    1                       2   \n",
       "2225            5  ...                    0                       1   \n",
       "2226            4  ...                    1                       8   \n",
       "2227            3  ...                    1                       3   \n",
       "2228            4  ...                    1                       7   \n",
       "\n",
       "      tvghorsepowerrating  tvghorseaveragespeed  tvghorseaverageclassrating  \\\n",
       "2224                 69.8                    75                          81   \n",
       "2225                 78.4                    89                          97   \n",
       "2226                 84.4                    80                          87   \n",
       "2227                 86.1                    77                          90   \n",
       "2228                 79.2                    74                          90   \n",
       "\n",
       "      currentodds.1  winpayout placepayout  showpayout  scratched  \n",
       "2224             SC        0.0         0.0         0.0          1  \n",
       "2225              3        0.0         0.0         0.0          0  \n",
       "2226              4        0.0         0.0         0.0          0  \n",
       "2227              2        6.2         4.2         3.8          0  \n",
       "2228             19        0.0         0.0         8.4          0  \n",
       "\n",
       "[5 rows x 22 columns]"
      ]
     },
     "execution_count": 49,
     "metadata": {},
     "output_type": "execute_result"
    }
   ],
   "source": [
    "df_copy = df_copy[df.tvghorseaverageclassrating != 0]\n",
    "df_copy.tail()"
   ]
  },
  {
   "cell_type": "markdown",
   "metadata": {},
   "source": [
    "Re-visualising"
   ]
  },
  {
   "cell_type": "code",
   "execution_count": 50,
   "metadata": {},
   "outputs": [
    {
     "data": {
      "image/png": "[encoded data removed]",
      "text/plain": [
       "<Figure size 432x288 with 1 Axes>"
      ]
     },
     "metadata": {
      "needs_background": "light"
     },
     "output_type": "display_data"
    }
   ],
   "source": [
    "fig, ax = plt.subplots()\n",
    "n_bins = 20\n",
    "ax.hist(x=df_copy.tvghorseweight, bins=n_bins);\n",
    "ax.set(title='horse weight histogram', xlabel='weight (lb)', ylabel='count');"
   ]
  },
  {
   "cell_type": "code",
   "execution_count": 53,
   "metadata": {},
   "outputs": [
    {
     "data": {
      "image/png": "[encoded data removed]",
      "text/plain": [
       "<Figure size 432x288 with 1 Axes>"
      ]
     },
     "metadata": {
      "needs_background": "light"
     },
     "output_type": "display_data"
    }
   ],
   "source": [
    "fig, ax = plt.subplots()\n",
    "n_bins = 20\n",
    "ax.hist(x=df_copy.tvghorseage, bins=n_bins);\n",
    "ax.set(title='horse age histogram', xlabel='age (years)', ylabel='count');"
   ]
  },
  {
   "cell_type": "code",
   "execution_count": 54,
   "metadata": {},
   "outputs": [
    {
     "data": {
      "image/png": "[encoded data removed]",
      "text/plain": [
       "<Figure size 432x288 with 1 Axes>"
      ]
     },
     "metadata": {
      "needs_background": "light"
     },
     "output_type": "display_data"
    }
   ],
   "source": [
    "fig, ax = plt.subplots()\n",
    "n_bins = 20\n",
    "ax.hist(x=df_copy.tvghorsedaysoff, bins=n_bins);\n",
    "ax.set(title='horse number of days off histogram', xlabel='Number of days off', ylabel='count');"
   ]
  },
  {
   "cell_type": "code",
   "execution_count": 55,
   "metadata": {},
   "outputs": [
    {
     "data": {
      "image/png": "[encoded data removed]",
      "text/plain": [
       "<Figure size 432x288 with 1 Axes>"
      ]
     },
     "metadata": {
      "needs_background": "light"
     },
     "output_type": "display_data"
    }
   ],
   "source": [
    "fig, ax = plt.subplots()\n",
    "n_bins = 20\n",
    "ax.hist(x=df_copy.tvghorsenumberofwins, bins=n_bins);\n",
    "ax.set(title='horse number of wins histogram', xlabel='Number of wins', ylabel='count');"
   ]
  },
  {
   "cell_type": "code",
   "execution_count": 56,
   "metadata": {},
   "outputs": [
    {
     "data": {
      "image/png": "[encoded data removed]",
      "text/plain": [
       "<Figure size 432x288 with 1 Axes>"
      ]
     },
     "metadata": {
      "needs_background": "light"
     },
     "output_type": "display_data"
    }
   ],
   "source": [
    "fig, ax = plt.subplots()\n",
    "n_bins = 20\n",
    "ax.hist(x=df_copy.tvghorsepowerrating, bins=n_bins);\n",
    "ax.set(title='horse power rating', xlabel='horsepower', ylabel='count');"
   ]
  },
  {
   "cell_type": "code",
   "execution_count": 57,
   "metadata": {},
   "outputs": [
    {
     "data": {
      "image/png": "[encoded data removed]",
      "text/plain": [
       "<Figure size 432x288 with 1 Axes>"
      ]
     },
     "metadata": {
      "needs_background": "light"
     },
     "output_type": "display_data"
    }
   ],
   "source": [
    "fig, ax = plt.subplots()\n",
    "n_bins = 20\n",
    "ax.hist(x=df_copy.tvghorseaveragespeed, bins=n_bins);\n",
    "ax.set(title='horse average speed', xlabel='Speed (Beyer)', ylabel='count');"
   ]
  },
  {
   "cell_type": "code",
   "execution_count": 58,
   "metadata": {},
   "outputs": [
    {
     "data": {
      "image/png": "[encoded data removed]",
      "text/plain": [
       "<Figure size 432x288 with 1 Axes>"
      ]
     },
     "metadata": {
      "needs_background": "light"
     },
     "output_type": "display_data"
    }
   ],
   "source": [
    "fig, ax = plt.subplots()\n",
    "n_bins = 20\n",
    "ax.hist(x=df_copy.tvghorseaverageclassrating, bins=n_bins);\n",
    "ax.set(title='horse average class rating', xlabel='horse average class rating', ylabel='count');"
   ]
  },
  {
   "cell_type": "markdown",
   "metadata": {},
   "source": [
    "Data looks a lot cleaner and useable"
   ]
  },
  {
   "cell_type": "code",
   "execution_count": null,
   "metadata": {},
   "outputs": [],
   "source": []
  },
  {
   "cell_type": "code",
   "execution_count": null,
   "metadata": {},
   "outputs": [],
   "source": []
  },
  {
   "cell_type": "code",
   "execution_count": null,
   "metadata": {},
   "outputs": [],
   "source": []
  },
  {
   "cell_type": "code",
   "execution_count": null,
   "metadata": {},
   "outputs": [],
   "source": []
  },
  {
   "cell_type": "code",
   "execution_count": null,
   "metadata": {},
   "outputs": [],
   "source": []
  }
 ],
 "metadata": {
  "kernelspec": {
   "display_name": "Python 3",
   "language": "python",
   "name": "python3"
  },
  "language_info": {
   "codemirror_mode": {
    "name": "ipython",
    "version": 3
   },
   "file_extension": ".py",
   "mimetype": "text/x-python",
   "name": "python",
   "nbconvert_exporter": "python",
   "pygments_lexer": "ipython3",
   "version": "3.7.7"
  }
 },
 "nbformat": 4,
 "nbformat_minor": 4
}
