{
 "cells": [
  {
   "cell_type": "code",
   "execution_count": 1,
   "metadata": {},
   "outputs": [],
   "source": [
    "import pandas as pd\n",
    "import numpy as np\n",
    "import matplotlib.pyplot as plt\n",
    "import os\n",
    "from pprint import pprint"
   ]
  },
  {
   "cell_type": "code",
   "execution_count": 2,
   "metadata": {},
   "outputs": [],
   "source": [
    "# path = os.path.join(\"..\",\"new_data\",\"Cd_200627_sf.csv\")\n",
    "# pd.set_option('display.max_columns', None)\n",
    "# # pd.reset_option(\"max_columns\")\n",
    "# df = pd.read_csv(path)\n",
    "# df.columns\n",
    "\n",
    "# x = [i for i in df.columns]\n",
    "# pprint(x)\n",
    "# print(len(x))"
   ]
  },
  {
   "cell_type": "code",
   "execution_count": 9,
   "metadata": {},
   "outputs": [],
   "source": [
    "# path = os.path.join('..','data','Gp_200502_hr.csv')\n",
    "# df = pd.read_csv(path)\n",
    "# df.head()\n",
    "\n",
    "# horse_name = df.Horse.unique()\n",
    "\n",
    "# column_names = df.columns\n",
    "# print(column_names)"
   ]
  },
  {
   "cell_type": "code",
   "execution_count": 10,
   "metadata": {},
   "outputs": [],
   "source": [
    "# for i in horse_name:\\\n",
    "# features = ['Odds','RaceAge','Weight','FirstWeight','SecondWeight','ThirdWeight']\n",
    "# target = ['Beyer']\n",
    "# X_silent_tiger = df.loc[df['Horse'] == 'Silent Tiger'][features]\n",
    "# y_silent_tiger = df.loc[df['Horse'] == 'Silent Tiger'][target].values.reshape(-1,1)\n"
   ]
  },
  {
   "cell_type": "code",
   "execution_count": 5,
   "metadata": {},
   "outputs": [
    {
     "name": "stdout",
     "output_type": "stream",
     "text": [
      "\n",
      "     Odds  RaceAge  Weight  FirstWeight  SecondWeight  ThirdWeight\n",
      "360  36.1        2     121          122           116          116\n",
      "347  99.7       41     121          121           121          121\n",
      "349  12.9       41     121          118           121          123\n",
      "345  16.1       31     122          122           124          122\n",
      "351   7.5       31     118          118           118          118\n",
      "335   1.8       41     120          116           120          121\n",
      "338   3.9       31     112          117           120          112\n",
      "339  17.7       31     122          118           113          118\n",
      "336   1.8       31     122          122           120          115\n",
      "358  59.8        3     120          118           118          118\n",
      "337   5.6       31     112          119           117          122\n",
      "357  22.3        3     120          118           120          118\n",
      "359  33.0        3     120          118           118          120\n",
      "352   6.3       31     120          118           118          118\n",
      "362  45.7        2     119          119           119          119\n",
      "354  14.8       31     120          122           117          120\n",
      "341   9.8       31     122          122           117          112\n",
      "344  32.5       31     122          118           118          118\n",
      "348  30.2       41     121          121           121          121\n",
      "353  26.7        3     120          117           121          117\n",
      "340  19.5       31     124          122           122          124\n",
      "\n",
      "     Odds  RaceAge  Weight  FirstWeight  SecondWeight  ThirdWeight\n",
      "361  25.8        2     120          120           120          120\n",
      "350  28.9       31     118          122           120          122\n",
      "346  19.7       41     121          121           121          121\n",
      "356  15.8        3     120          117           120          117\n",
      "342  44.1       31     122          118           118          122\n",
      "343  24.3       31     122          118           118          118\n",
      "355  18.8        3     120          119           117          117\n",
      "334   4.0       41     121          121           114          121\n",
      "\n",
      "[[ 56]\n",
      " [ 71]\n",
      " [ 52]\n",
      " [998]\n",
      " [ 76]\n",
      " [ 60]\n",
      " [ 58]\n",
      " [ 57]\n",
      " [ 68]\n",
      " [ 62]\n",
      " [ 53]\n",
      " [ 68]\n",
      " [ 73]\n",
      " [ 63]\n",
      " [ 18]\n",
      " [ 77]\n",
      " [ 54]\n",
      " [ 34]\n",
      " [ 41]\n",
      " [ 73]\n",
      " [ 61]]\n",
      "\n",
      "[[54]\n",
      " [71]\n",
      " [51]\n",
      " [68]\n",
      " [59]\n",
      " [29]\n",
      " [65]\n",
      " [70]]\n",
      "\n",
      "\n"
     ]
    }
   ],
   "source": [
    "from sklearn.linear_model import LinearRegression\n",
    "from sklearn.model_selection import train_test_split\n",
    "X_train, X_test, y_train, y_test = train_test_split(X_silent_tiger, y_silent_tiger, random_state=42)\n",
    "\n",
    "print(f'''\n",
    "{X_train}\\n\n",
    "{X_test}\\n\n",
    "{y_train}\\n\n",
    "{y_test}\\n\n",
    "''')"
   ]
  },
  {
   "cell_type": "code",
   "execution_count": 6,
   "metadata": {},
   "outputs": [
    {
     "name": "stdout",
     "output_type": "stream",
     "text": [
      "\n",
      "Prediction: \n",
      "[[199.73160334]\n",
      " [218.16716251]\n",
      " [224.6934515 ]\n",
      " [111.88505492]\n",
      " [ 10.34195676]\n",
      " [ 16.48648246]\n",
      " [ 50.13088606]\n",
      " [ -4.66863728]]\n",
      "\n",
      "\n",
      "Actual: \n",
      "[[54]\n",
      " [71]\n",
      " [51]\n",
      " [68]\n",
      " [59]\n",
      " [29]\n",
      " [65]\n",
      " [70]]\n",
      "\n",
      "train_score: \n",
      "0.3243266118399524\n",
      "\n",
      "test score: \n",
      "-59.90605962315421\n",
      "\n"
     ]
    }
   ],
   "source": [
    "model = LinearRegression()\n",
    "model.fit(X_train,y_train)\n",
    "model.score(X_train,y_train)\n",
    "predict = model.predict(X_test)\n",
    "\n",
    "print(f'''\n",
    "Prediction: \\n{predict[:10]}\n",
    "\n",
    "\n",
    "Actual: \\n{y_test[:10]}\n",
    "\n",
    "train_score: \\n{model.score(X_train,y_train)}\n",
    "\n",
    "test score: \\n{model.score(X_test,y_test)}\n",
    "''')"
   ]
  },
  {
   "cell_type": "code",
   "execution_count": 7,
   "metadata": {},
   "outputs": [
    {
     "name": "stdout",
     "output_type": "stream",
     "text": [
      "\n",
      "Prediction: \n",
      "[73 41 41 73 34 34 73 77]\n",
      "\n",
      "\n",
      "Actual: \n",
      "[[54]\n",
      " [71]\n",
      " [51]\n",
      " [68]\n",
      " [59]\n",
      " [29]\n",
      " [65]\n",
      " [70]]\n",
      "\n",
      "train_score: \n",
      "0.9047619047619048\n",
      "\n",
      "test score: \n",
      "0.0\n",
      "\n"
     ]
    },
    {
     "name": "stderr",
     "output_type": "stream",
     "text": [
      "C:\\Users\\Ayman\\anaconda3\\lib\\site-packages\\sklearn\\utils\\validation.py:73: DataConversionWarning: A column-vector y was passed when a 1d array was expected. Please change the shape of y to (n_samples, ), for example using ravel().\n",
      "  return f(**kwargs)\n"
     ]
    }
   ],
   "source": [
    "from sklearn.svm import SVC\n",
    "from sklearn.pipeline import make_pipeline\n",
    "from sklearn.preprocessing import StandardScaler\n",
    "\n",
    "model = make_pipeline(StandardScaler(), SVC(kernel='linear'))\n",
    "model.fit(X_train,y_train)\n",
    "model.score(X_train,y_train)\n",
    "predict = model.predict(X_test)\n",
    "\n",
    "print(f'''\n",
    "Prediction: \\n{predict[:10]}\n",
    "\n",
    "\n",
    "Actual: \\n{y_test[:10]}\n",
    "\n",
    "train_score: \\n{model.score(X_train,y_train)}\n",
    "\n",
    "test score: \\n{model.score(X_test,y_test)}\n",
    "''')"
   ]
  },
  {
   "cell_type": "code",
   "execution_count": 8,
   "metadata": {},
   "outputs": [
    {
     "name": "stdout",
     "output_type": "stream",
     "text": [
      "\n",
      "Prediction: \n",
      "[73 41 41 73 34 34 73 77]\n",
      "\n",
      "\n",
      "Actual: \n",
      "[[54]\n",
      " [71]\n",
      " [51]\n",
      " [68]\n",
      " [59]\n",
      " [29]\n",
      " [65]\n",
      " [70]]\n",
      "\n",
      "train_score: \n",
      "0.9047619047619048\n",
      "\n",
      "test score: \n",
      "0.0\n",
      "\n"
     ]
    },
    {
     "name": "stderr",
     "output_type": "stream",
     "text": [
      "C:\\Users\\Ayman\\anaconda3\\lib\\site-packages\\sklearn\\utils\\validation.py:73: DataConversionWarning: A column-vector y was passed when a 1d array was expected. Please change the shape of y to (n_samples, ), for example using ravel().\n",
      "  return f(**kwargs)\n"
     ]
    }
   ],
   "source": [
    "from sklearn.svm import SVC\n",
    "from sklearn.pipeline import make_pipeline\n",
    "from sklearn.preprocessing import StandardScaler\n",
    "\n",
    "model = make_pipeline(StandardScaler(), SVC(kernel='linear',gamma='auto'))\n",
    "model.fit(X_train,y_train)\n",
    "model.score(X_train,y_train)\n",
    "predict = model.predict(X_test)\n",
    "\n",
    "print(f'''\n",
    "Prediction: \\n{predict[:10]}\n",
    "\n",
    "\n",
    "Actual: \\n{y_test[:10]}\n",
    "\n",
    "train_score: \\n{model.score(X_train,y_train)}\n",
    "\n",
    "test score: \\n{model.score(X_test,y_test)}\n",
    "''')"
   ]
  }
 ],
 "metadata": {
  "kernelspec": {
   "display_name": "Python 3",
   "language": "python",
   "name": "python3"
  },
  "language_info": {
   "codemirror_mode": {
    "name": "ipython",
    "version": 3
   },
   "file_extension": ".py",
   "mimetype": "text/x-python",
   "name": "python",
   "nbconvert_exporter": "python",
   "pygments_lexer": "ipython3",
   "version": "3.7.7"
  }
 },
 "nbformat": 4,
 "nbformat_minor": 4
}
